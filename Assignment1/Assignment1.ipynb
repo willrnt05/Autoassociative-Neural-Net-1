{
 "cells": [
  {
   "cell_type": "code",
   "execution_count": 40,
   "id": "0baf0b85",
   "metadata": {},
   "outputs": [],
   "source": [
    "import cv2 \n",
    "\n",
    "def toBlackWhiteBinary(img):\n",
    "    for i in range(16):\n",
    "        for j in range(16):\n",
    "            if img[i][j] != 255:\n",
    "                img[i][j] = 0\n",
    "    return img\n",
    "                \n",
    "for i in range(10):\n",
    "    path = list(r\"C:\\Users\\billy_000\\Documents\\UF\\Neural Networks\\Assignment1\\images\\x.PNG\")\n",
    "    path[67] = str(i)\n",
    "    path = \"\".join(path)\n",
    "    img = cv2.imread(path, cv2.IMREAD_GRAYSCALE)\n",
    "    img = toBlackWhiteBinary(img)\n",
    "    cv2.imwrite(path, img)\n",
    "    \n",
    "    \n"
   ]
  },
  {
   "cell_type": "code",
   "execution_count": null,
   "id": "0bae2595",
   "metadata": {},
   "outputs": [],
   "source": []
  },
  {
   "cell_type": "code",
   "execution_count": null,
   "id": "9a23fa4f",
   "metadata": {},
   "outputs": [],
   "source": []
  }
 ],
 "metadata": {
  "kernelspec": {
   "display_name": "Python 3",
   "language": "python",
   "name": "python3"
  },
  "language_info": {
   "codemirror_mode": {
    "name": "ipython",
    "version": 3
   },
   "file_extension": ".py",
   "mimetype": "text/x-python",
   "name": "python",
   "nbconvert_exporter": "python",
   "pygments_lexer": "ipython3",
   "version": "3.8.8"
  }
 },
 "nbformat": 4,
 "nbformat_minor": 5
}
